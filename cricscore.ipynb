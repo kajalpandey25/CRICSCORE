{
 "cells": [
  {
   "cell_type": "code",
   "execution_count": null,
   "metadata": {},
   "outputs": [],
   "source": [
    "#GUI\n",
    "#Webscraping from cricbuzz to get all the score\n",
    "#Display the live match updates on my python app\n"
   ]
  },
  {
   "cell_type": "code",
   "execution_count": null,
   "metadata": {},
   "outputs": [],
   "source": [
    "!pip install Pillow\n",
    "\n",
    "\n"
   ]
  },
  {
   "cell_type": "code",
   "execution_count": 1,
   "metadata": {},
   "outputs": [
    {
     "name": "stdout",
     "output_type": "stream",
     "text": [
      "Requirement already satisfied: requests in c:\\users\\ambuj\\appdata\\local\\programs\\python\\python311\\lib\\site-packages (2.31.0)\n",
      "Requirement already satisfied: charset-normalizer<4,>=2 in c:\\users\\ambuj\\appdata\\local\\programs\\python\\python311\\lib\\site-packages (from requests) (3.3.2)\n",
      "Requirement already satisfied: idna<4,>=2.5 in c:\\users\\ambuj\\appdata\\local\\programs\\python\\python311\\lib\\site-packages (from requests) (3.4)\n",
      "Requirement already satisfied: urllib3<3,>=1.21.1 in c:\\users\\ambuj\\appdata\\local\\programs\\python\\python311\\lib\\site-packages (from requests) (2.0.7)\n",
      "Requirement already satisfied: certifi>=2017.4.17 in c:\\users\\ambuj\\appdata\\local\\programs\\python\\python311\\lib\\site-packages (from requests) (2023.7.22)\n",
      "Note: you may need to restart the kernel to use updated packages.\n"
     ]
    },
    {
     "name": "stderr",
     "output_type": "stream",
     "text": [
      "\n",
      "[notice] A new release of pip is available: 23.1.2 -> 23.3.1\n",
      "[notice] To update, run: python.exe -m pip install --upgrade pip\n"
     ]
    }
   ],
   "source": [
    "pip install requests"
   ]
  },
  {
   "cell_type": "code",
   "execution_count": 2,
   "metadata": {},
   "outputs": [
    {
     "name": "stdout",
     "output_type": "stream",
     "text": [
      "Requirement already satisfied: bs4 in c:\\users\\ambuj\\appdata\\local\\programs\\python\\python311\\lib\\site-packages (0.0.1)\n",
      "Requirement already satisfied: beautifulsoup4 in c:\\users\\ambuj\\appdata\\local\\programs\\python\\python311\\lib\\site-packages (from bs4) (4.12.2)\n",
      "Requirement already satisfied: soupsieve>1.2 in c:\\users\\ambuj\\appdata\\local\\programs\\python\\python311\\lib\\site-packages (from beautifulsoup4->bs4) (2.5)\n",
      "Note: you may need to restart the kernel to use updated packages.\n"
     ]
    },
    {
     "name": "stderr",
     "output_type": "stream",
     "text": [
      "\n",
      "[notice] A new release of pip is available: 23.1.2 -> 23.3.1\n",
      "[notice] To update, run: python.exe -m pip install --upgrade pip\n"
     ]
    }
   ],
   "source": [
    "pip install bs4"
   ]
  },
  {
   "cell_type": "code",
   "execution_count": 1,
   "metadata": {},
   "outputs": [],
   "source": [
    "from tkinter import *\n",
    "from PIL import ImageTk\n",
    "from tkinter.ttk import Combobox\n",
    "from bs4 import BeautifulSoup\n",
    "import requests\n",
    "import re\n"
   ]
  },
  {
   "cell_type": "code",
   "execution_count": 2,
   "metadata": {},
   "outputs": [
    {
     "name": "stderr",
     "output_type": "stream",
     "text": [
      "Exception in Tkinter callback\n",
      "Traceback (most recent call last):\n",
      "  File \"c:\\Users\\Ambuj\\AppData\\Local\\Programs\\Python\\Python311\\Lib\\tkinter\\__init__.py\", line 1948, in __call__\n",
      "    return self.func(*args)\n",
      "           ^^^^^^^^^^^^^^^^\n",
      "  File \"C:\\Users\\Ambuj\\AppData\\Local\\Temp\\ipykernel_16792\\2048474018.py\", line 95, in show_match_details\n",
      "    x = self.matches[self.select()]\n",
      "        ~~~~~~~~~~~~^^^^^^^^^^^^^^^\n",
      "KeyError: ''\n"
     ]
    }
   ],
   "source": [
    "class CricketScore:\n",
    "\n",
    "    # creating gui window\n",
    "    def __init__(self, rootWindow):\n",
    "        self.rootWindow = rootWindow\n",
    "        self.rootWindow.title(\"LIVE CRICKET SCORE\")\n",
    "        self.rootWindow.geometry('800x500')\n",
    "        self.bg = ImageTk.PhotoImage(file=\"cric.jpg\")\n",
    "        bg = Label(self.rootWindow, image=self.bg).place(x=0, y=0)\n",
    "\n",
    "        # adding live matches text to gui\n",
    "        self.label = Label(self.rootWindow, text='Live Matches', font=(\"times new roman\", 60), compound='center').pack(padx=100, pady=50)\n",
    "\n",
    "        # adding all live matches combobox in gui\n",
    "        self.var = StringVar()\n",
    "        self.matches = self.match_details()\n",
    "        self.data = [i for i in self.matches.keys()]\n",
    "        self.cb = Combobox(self.rootWindow, values=self.data, width=50)\n",
    "        self.cb.place(x=250,y=200)\n",
    "\n",
    "        # adding check score button to gui\n",
    "        self.b1 = Button(self.rootWindow, text=\"Check Score\", font=(\"times new roman\", 15), command=self.show_match_details).place(x=50, y=380)\n",
    "\n",
    "    # creating command for check score button\n",
    "    def select(self):\n",
    "        return self.cb.get()\n",
    "\n",
    "    # scrapping the data from cricbuzz.com\n",
    "    def scrap(self):\n",
    "        URL = \"https://www.cricbuzz.com/\"\n",
    "        page = requests.get(URL)\n",
    "        soup = BeautifulSoup(page.content, \"html.parser\")\n",
    "        results = soup.find(id=\"match_menu_container\")\n",
    "        scrap_results = results.find_all(\"li\", class_=\"cb-match-card\")\n",
    "        return scrap_results\n",
    "    \n",
    "     # Load the cricket match details\n",
    "    def match_details(self):\n",
    "        details = self.scrap()\n",
    "        live_match = {}\n",
    "        for detail in details:\n",
    "            live_team_details = {}\n",
    "            summary = self.match_summary(detail)\n",
    "            if summary is not None:\n",
    "                match_header = self.match_header(detail).text\n",
    "                teams = self.teams_name(detail)\n",
    "                score_card = self.team_score(detail)\n",
    "                live_team_details['summary'] = summary.text\n",
    "                live_team_details['match_header'] = match_header\n",
    "                live_team_details['score_card'] = score_card[0] + \" :: \" + score_card[1]\n",
    "                live_match[teams[0] + \" vs \" + teams[1]] = live_team_details\n",
    "\n",
    "            \n",
    "        return live_match\n",
    "\n",
    "\n",
    " # Load match summary\n",
    "    def match_summary(self, detail):\n",
    "        return detail.find(\"div\", class_=\"cb-mtch-crd-state\")\n",
    "    \n",
    "    # Load match header\n",
    "    def match_header(self, detail):\n",
    "        return detail.find(\"div\", class_=\"cb-mtch-crd-hdr\")\n",
    "\n",
    "    \n",
    "    # Load teams name\n",
    "    def teams_name(self, detail):\n",
    "        l = []\n",
    "        team1_details = detail.find(\"div\", class_=\"cb-hmscg-bat-txt\").text\n",
    "        team1_index = re.search(r\"\\d\", team1_details).start() if re.search(r\"\\d\", team1_details) else len(team1_details)\n",
    "        team2_details = detail.find(\"div\", class_=\"cb-hmscg-bwl-txt\").text\n",
    "        team2_index =  re.search(r\"\\d\", team2_details).start()  if re.search(r\"\\d\", team2_details) else len(team2_details)\n",
    "        l.append(team1_details[:team1_index])\n",
    "        l.append(team2_details[:team2_index])\n",
    "        return l\n",
    "\n",
    "    # Load team score\n",
    "    def team_score(self, detail):\n",
    "        l = []\n",
    "        team1_details = detail.find(\"div\", class_=\"cb-hmscg-bat-txt\").text\n",
    "        team2_details = detail.find(\"div\", class_=\"cb-hmscg-bwl-txt\").text\n",
    "        l.append(team1_details)\n",
    "        l.append(team2_details)\n",
    "        return l\n",
    "        \n",
    "\n",
    "    # Present details in  gui\n",
    "    def show_match_details(self):\n",
    "\n",
    "          # Building match details frame\n",
    "        self.frame1 = Frame(self.rootWindow, bg=\"#ADD8E6\")\n",
    "        self.frame1.place(x=180, y=280, width=600, height=200)\n",
    "\n",
    "        # Fetching details of match\n",
    "        x = self.matches[self.select()]\n",
    "\n",
    "        \n",
    "        # Displaying team names\n",
    "        Label(self.frame1, text=self.select() + \" - \" + x['match_header'], font=(\"times new roman\", 15, \"bold\"), bg=\"#ADD8E6\", fg=\"red\",\n",
    "                      bd=0).place(x=150, y=15)\n",
    "\n",
    "       \n",
    "        # Dispalying details of the match\n",
    "        Label(self.frame1, text=\"Score Details : \", font=(\"times new roman\", 10, \"bold\"), bg=\"#ADD8E6\", fg=\"black\",\n",
    "              bd=0).place(x=10, y=40)\n",
    "        Label(self.frame1, text=x['score_card'], font=(\"times new roman\", 10, \"bold\"), bg=\"#ADD8E6\", fg=\"black\",\n",
    "              bd=0).place(x=20, y=60)\n",
    "        \n",
    "        Label(self.frame1, text=\"Summary : \", font=(\"times new roman\", 10, \"bold\"), bg=\"#ADD8E6\", fg=\"black\",\n",
    "              bd=0).place(x=10, y=100)\n",
    "        Label(self.frame1, text=x['summary'], font=(\"times new roman\", 10, \"bold\"), bg=\"#ADD8E6\", fg=\"black\",\n",
    "              bd=0).place(x=20, y=120)\n",
    "        \n",
    "                \n",
    "# Main function - Start point of the application\n",
    "def main():\n",
    "    # creating tkinter window\n",
    "    rootWindow = Tk()\n",
    "    \n",
    "    # creating object for class cricket_score\n",
    "    obj = CricketScore(rootWindow)\n",
    "   \n",
    "    # starting the gui\n",
    "    rootWindow.mainloop()\n",
    "\n",
    "\n",
    "if __name__ == \"__main__\":\n",
    "    # ==== calling main function\n",
    "    main() \n",
    "  "
   ]
  }
 ],
 "metadata": {
  "kernelspec": {
   "display_name": "Python 3",
   "language": "python",
   "name": "python3"
  },
  "language_info": {
   "codemirror_mode": {
    "name": "ipython",
    "version": 3
   },
   "file_extension": ".py",
   "mimetype": "text/x-python",
   "name": "python",
   "nbconvert_exporter": "python",
   "pygments_lexer": "ipython3",
   "version": "3.11.4"
  }
 },
 "nbformat": 4,
 "nbformat_minor": 2
}
